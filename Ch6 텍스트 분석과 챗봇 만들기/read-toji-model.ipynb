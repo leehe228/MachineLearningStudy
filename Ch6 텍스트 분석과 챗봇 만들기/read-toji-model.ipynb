{
 "cells": [
  {
   "cell_type": "code",
   "execution_count": 1,
   "metadata": {},
   "outputs": [],
   "source": [
    "from gensim.models import word2vec"
   ]
  },
  {
   "cell_type": "code",
   "execution_count": 2,
   "metadata": {},
   "outputs": [],
   "source": [
    "model = word2vec.Word2Vec.load(\"toji.model\")"
   ]
  },
  {
   "cell_type": "code",
   "execution_count": 5,
   "metadata": {},
   "outputs": [
    {
     "data": {
      "text/plain": [
       "[('장차', 0.9040194749832153),\n",
       " ('꾼', 0.8918007016181946),\n",
       " ('골골', 0.8870646953582764),\n",
       " ('벼슬길', 0.8856689929962158),\n",
       " ('봇짐', 0.8822329640388489),\n",
       " ('기생', 0.8804010152816772),\n",
       " ('걸세', 0.8793817162513733),\n",
       " ('조상', 0.8763152360916138),\n",
       " ('굶주리다', 0.8763128519058228),\n",
       " ('보름', 0.875296413898468)]"
      ]
     },
     "execution_count": 5,
     "metadata": {},
     "output_type": "execute_result"
    }
   ],
   "source": [
    "model.wv.most_similar(positive=[\"땅\"])"
   ]
  },
  {
   "cell_type": "code",
   "execution_count": 6,
   "metadata": {},
   "outputs": [
    {
     "data": {
      "text/plain": [
       "[('제', 0.8114532828330994),\n",
       " ('구석', 0.7806962132453918),\n",
       " ('날', 0.7793254256248474),\n",
       " ('이지마', 0.7726839780807495),\n",
       " ('말짱', 0.770003080368042),\n",
       " ('점심', 0.766693115234375),\n",
       " ('남정', 0.7638230323791504),\n",
       " ('해', 0.7608016729354858),\n",
       " ('매', 0.7582288980484009),\n",
       " ('캅디', 0.7517440319061279)]"
      ]
     },
     "execution_count": 6,
     "metadata": {},
     "output_type": "execute_result"
    }
   ],
   "source": [
    "model.wv.most_similar(positive=[\"집\"])"
   ]
  },
  {
   "cell_type": "code",
   "execution_count": null,
   "metadata": {},
   "outputs": [],
   "source": []
  }
 ],
 "metadata": {
  "kernelspec": {
   "display_name": "Python 3",
   "language": "python",
   "name": "python3"
  },
  "language_info": {
   "codemirror_mode": {
    "name": "ipython",
    "version": 3
   },
   "file_extension": ".py",
   "mimetype": "text/x-python",
   "name": "python",
   "nbconvert_exporter": "python",
   "pygments_lexer": "ipython3",
   "version": "3.7.9"
  }
 },
 "nbformat": 4,
 "nbformat_minor": 4
}
