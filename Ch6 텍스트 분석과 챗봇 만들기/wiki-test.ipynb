{
 "cells": [
  {
   "cell_type": "code",
   "execution_count": 1,
   "metadata": {},
   "outputs": [],
   "source": [
    "from gensim.models import word2vec\n",
    "model = word2vec.Word2Vec.load(\"wiki.model\")"
   ]
  },
  {
   "cell_type": "code",
   "execution_count": 2,
   "metadata": {},
   "outputs": [
    {
     "data": {
      "text/plain": [
       "[('Perl', 0.9213457107543945),\n",
       " ('Java', 0.906911313533783),\n",
       " ('Tcl', 0.905478835105896),\n",
       " ('MATLAB', 0.8736516237258911),\n",
       " ('Lisp', 0.869271457195282),\n",
       " ('자바스크립트', 0.8669256567955017),\n",
       " ('하스켈', 0.8633924126625061),\n",
       " ('JSP', 0.8586523532867432),\n",
       " ('IDL', 0.8562408685684204),\n",
       " ('CLI', 0.8507612943649292)]"
      ]
     },
     "execution_count": 2,
     "metadata": {},
     "output_type": "execute_result"
    }
   ],
   "source": [
    "model.wv.most_similar(positive=[\"Python\", \"파이썬\"])"
   ]
  },
  {
   "cell_type": "code",
   "execution_count": 4,
   "metadata": {},
   "outputs": [
    {
     "data": {
      "text/plain": [
       "('엄마', 0.8517739772796631)"
      ]
     },
     "execution_count": 4,
     "metadata": {},
     "output_type": "execute_result"
    }
   ],
   "source": [
    "model.wv.most_similar(positive=[\"아빠\", \"여성\"], negative=[\"남성\"])[0]"
   ]
  },
  {
   "cell_type": "code",
   "execution_count": 7,
   "metadata": {},
   "outputs": [
    {
     "data": {
      "text/plain": [
       "[('왕녀', 0.7314919829368591),\n",
       " ('여왕', 0.6171671152114868),\n",
       " ('이아손', 0.5895237922668457),\n",
       " ('아들', 0.585692286491394),\n",
       " ('대왕', 0.5848723649978638)]"
      ]
     },
     "execution_count": 7,
     "metadata": {},
     "output_type": "execute_result"
    }
   ],
   "source": [
    "model.wv.most_similar(positive=[\"왕자\", \"여성\"], negative=[\"남성\"])[:5]"
   ]
  },
  {
   "cell_type": "code",
   "execution_count": 8,
   "metadata": {},
   "outputs": [
    {
     "data": {
      "text/plain": [
       "[('도쿄', 0.6773518323898315),\n",
       " ('교토', 0.6354459524154663),\n",
       " ('오사카', 0.6219913363456726),\n",
       " ('서울특별시', 0.5624314546585083),\n",
       " ('후쿠오카', 0.55680251121521)]"
      ]
     },
     "execution_count": 8,
     "metadata": {},
     "output_type": "execute_result"
    }
   ],
   "source": [
    "model.wv.most_similar(positive=[\"서울\", \"일본\"], negative=[\"한국\"])[:5]"
   ]
  },
  {
   "cell_type": "code",
   "execution_count": 9,
   "metadata": {},
   "outputs": [
    {
     "data": {
      "text/plain": [
       "[('베이징', 0.6821848750114441),\n",
       " ('북경', 0.648127019405365),\n",
       " ('절강성', 0.6373119354248047),\n",
       " ('상하이', 0.6292018890380859),\n",
       " ('봉천', 0.620449960231781)]"
      ]
     },
     "execution_count": 9,
     "metadata": {},
     "output_type": "execute_result"
    }
   ],
   "source": [
    "model.wv.most_similar(positive=[\"서울\", \"중국\"], negative=[\"한국\"])[:5]"
   ]
  },
  {
   "cell_type": "code",
   "execution_count": 10,
   "metadata": {},
   "outputs": [
    {
     "data": {
      "text/plain": [
       "('여자', 0.7413994073867798)"
      ]
     },
     "execution_count": 10,
     "metadata": {},
     "output_type": "execute_result"
    }
   ],
   "source": [
    "model.wv.most_similar(positive=[\"오른쪽\", \"남자\"], negative=[\"왼쪽\"])[0]"
   ]
  },
  {
   "cell_type": "code",
   "execution_count": 11,
   "metadata": {},
   "outputs": [
    {
     "data": {
      "text/plain": [
       "[('강남', 0.6851245164871216),\n",
       " ('인사동', 0.640274167060852),\n",
       " ('서울특별시', 0.6207906603813171),\n",
       " ('연희동', 0.6170412302017212),\n",
       " ('압구정동', 0.6069210767745972)]"
      ]
     },
     "execution_count": 11,
     "metadata": {},
     "output_type": "execute_result"
    }
   ],
   "source": [
    "model.wv.most_similar(positive=[\"서울\", \"맛집\"])[:5]"
   ]
  },
  {
   "cell_type": "code",
   "execution_count": 13,
   "metadata": {},
   "outputs": [
    {
     "data": {
      "text/plain": [
       "array([-1.1542174e+00,  1.4745393e+00, -7.9733324e-01, -5.5900455e-01,\n",
       "       -6.6307449e-01,  9.2782109e-04,  3.6092591e+00, -1.5235772e+00,\n",
       "        2.0633450e+00, -1.6057447e+00,  1.5326804e-01, -2.2927985e+00,\n",
       "       -1.0125110e+00, -1.1354420e+00,  3.3545346e+00, -1.3055078e+00,\n",
       "       -1.1653799e+00,  2.7230087e-01,  2.4801822e+00, -2.5385299e+00,\n",
       "        2.7152933e-02,  2.7477446e+00,  1.1618546e+00,  2.9348221e-01,\n",
       "        2.4446231e-01, -4.2186599e-02,  1.4659742e+00, -1.3442420e+00,\n",
       "       -1.7345996e+00,  1.6330991e+00, -1.7024884e+00, -1.4333612e+00,\n",
       "       -2.8042972e+00,  2.4347486e+00,  1.8691258e-01,  1.9883758e+00,\n",
       "       -2.1475420e+00,  3.9240709e-01,  1.6318704e+00,  1.2634866e+00,\n",
       "       -2.4041352e+00,  3.7154386e+00,  6.9826150e-01, -9.8208046e-01,\n",
       "        3.5579875e-01,  1.2745339e-01,  2.2055113e-01, -1.0895270e+00,\n",
       "        3.2937765e-01,  2.6084111e+00,  2.9336080e-01, -2.2053027e+00,\n",
       "        2.9885385e+00, -9.5456719e-01,  1.3786117e+00, -9.8494941e-01,\n",
       "       -1.0946046e+00,  1.3351594e+00, -1.3717122e+00, -1.0095539e+00,\n",
       "       -3.1787407e+00,  5.8116406e-01, -9.0793264e-01,  1.5016379e+00,\n",
       "        5.4166639e-01,  5.6927681e-01, -6.9126540e-01, -2.1516631e+00,\n",
       "        3.4873679e-01, -2.1284442e+00, -5.4845948e+00,  5.4757065e-01,\n",
       "        4.5885763e-01, -6.6594863e-01,  8.2989365e-01, -7.2227013e-01,\n",
       "       -1.3221562e+00,  1.2688708e+00, -1.7069147e+00,  1.9606873e+00,\n",
       "       -7.3036259e-01, -1.6601384e-01,  6.7513406e-01, -1.1760267e+00,\n",
       "       -5.2177966e-01, -4.0551597e-01,  1.9159936e+00, -7.4244136e-01,\n",
       "       -3.3973749e+00,  2.9921930e+00,  1.3513365e+00,  1.8686411e+00,\n",
       "        1.3707920e+00, -2.0566709e+00, -1.6780134e+00, -8.9390242e-01,\n",
       "       -5.9907657e-01,  9.4608074e-01, -5.6657642e-01,  8.8828903e-01],\n",
       "      dtype=float32)"
      ]
     },
     "execution_count": 13,
     "metadata": {},
     "output_type": "execute_result"
    }
   ],
   "source": [
    "model.wv[\"고양이\"]"
   ]
  },
  {
   "cell_type": "code",
   "execution_count": 14,
   "metadata": {},
   "outputs": [
    {
     "data": {
      "text/plain": [
       "100"
      ]
     },
     "execution_count": 14,
     "metadata": {},
     "output_type": "execute_result"
    }
   ],
   "source": [
    "len(model.wv[\"고양이\"])"
   ]
  },
  {
   "cell_type": "code",
   "execution_count": null,
   "metadata": {},
   "outputs": [],
   "source": []
  }
 ],
 "metadata": {
  "kernelspec": {
   "display_name": "Python 3",
   "language": "python",
   "name": "python3"
  },
  "language_info": {
   "codemirror_mode": {
    "name": "ipython",
    "version": 3
   },
   "file_extension": ".py",
   "mimetype": "text/x-python",
   "name": "python",
   "nbconvert_exporter": "python",
   "pygments_lexer": "ipython3",
   "version": "3.7.9"
  }
 },
 "nbformat": 4,
 "nbformat_minor": 4
}
